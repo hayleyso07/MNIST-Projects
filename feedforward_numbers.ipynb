{
 "cells": [
  {
   "cell_type": "code",
   "execution_count": 1,
   "id": "4073012f",
   "metadata": {},
   "outputs": [],
   "source": [
    "# importing libraries\n",
    "import torch\n",
    "from torch import nn, optim\n",
    "import matplotlib.pyplot as plt\n",
    "from torchvision import datasets, transforms"
   ]
  },
  {
   "cell_type": "code",
   "execution_count": 2,
   "id": "b70b91e5",
   "metadata": {},
   "outputs": [
    {
     "name": "stdout",
     "output_type": "stream",
     "text": [
      "cpu\n"
     ]
    }
   ],
   "source": [
    "# device config\n",
    "device = torch.device(\"cuda\" if torch.cuda.is_available() else \"cpu\")\n",
    "print(device)"
   ]
  },
  {
   "cell_type": "code",
   "execution_count": 3,
   "id": "793c5fe2",
   "metadata": {},
   "outputs": [],
   "source": [
    "# define a transform to normalize the data\n",
    "transform = transforms.Compose([transforms.ToTensor(), \n",
    "                                transforms.Normalize((0.5), (0.5))]) # normalize data; mean = 0.5, std = 0.5\n",
    "\n",
    "# download and load training dataset\n",
    "train_dataset = datasets.MNIST(root='./data', train=True, transform=transforms.ToTensor(), download=True)\n",
    "train_loader = torch.utils.data.DataLoader(dataset=train_dataset, batch_size = 32, shuffle=True)\n",
    "\n",
    "# download and load testing dataset\n",
    "test_dataset = datasets.MNIST(root='./data', train=False, transform=transforms.ToTensor())\n",
    "test_loader = torch.utils.data.DataLoader(dataset= test_dataset, batch_size = 32, shuffle=False)"
   ]
  },
  {
   "cell_type": "code",
   "execution_count": null,
   "id": "392d0bc9",
   "metadata": {},
   "outputs": [],
   "source": [
    "# run to test train_loader\n",
    "images, labels = next(iter(train_loader))\n",
    "print(images.shape, labels.shape)\n",
    "\n",
    "# display 6 images \n",
    "for i in range(6):  \n",
    "    plt.subplot(2, 3, i + 1)\n",
    "    plt.imshow(images[i][0], cmap='gray')"
   ]
  },
  {
   "cell_type": "code",
   "execution_count": 5,
   "id": "bfe32200",
   "metadata": {},
   "outputs": [
    {
     "name": "stdout",
     "output_type": "stream",
     "text": [
      "Sequential(\n",
      "  (0): Linear(in_features=784, out_features=256, bias=True)\n",
      "  (1): ReLU()\n",
      "  (2): Dropout(p=0.2, inplace=False)\n",
      "  (3): Linear(in_features=256, out_features=128, bias=True)\n",
      "  (4): ReLU()\n",
      "  (5): Dropout(p=0.2, inplace=False)\n",
      "  (6): Linear(in_features=128, out_features=10, bias=True)\n",
      "  (7): LogSoftmax(dim=1)\n",
      ")\n"
     ]
    }
   ],
   "source": [
    "# building the model\n",
    "input_layer = 784 \n",
    "hidden_layers = [256, 128]  \n",
    "output_layer = 10\n",
    "\n",
    "model = nn.Sequential(\n",
    "    nn.Linear(input_layer, hidden_layers[0]),\n",
    "    nn.ReLU(), \n",
    "    nn.Dropout(p=0.2), \n",
    "    nn.Linear(hidden_layers[0], hidden_layers[1]),\n",
    "    nn.ReLU(),\n",
    "    nn.Dropout(p=0.2),\n",
    "    nn.Linear(hidden_layers[1], output_layer), \n",
    "    nn.LogSoftmax(dim=1)) \n",
    "\n",
    "print(model)"
   ]
  },
  {
   "cell_type": "code",
   "execution_count": 6,
   "id": "e1eb16e4",
   "metadata": {},
   "outputs": [
    {
     "name": "stdout",
     "output_type": "stream",
     "text": [
      "Epoch: 1/30..  Train Loss: 1.166922..  Test Loss: 0.435851 Test Accuracy: 0.881589\n",
      "Epoch: 2/30..  Train Loss: 0.438454..  Test Loss: 0.314027 Test Accuracy: 0.910044\n",
      "Epoch: 3/30..  Train Loss: 0.347388..  Test Loss: 0.260576 Test Accuracy: 0.924720\n",
      "Epoch: 4/30..  Train Loss: 0.295163..  Test Loss: 0.227754 Test Accuracy: 0.931809\n",
      "Epoch: 5/30..  Train Loss: 0.256096..  Test Loss: 0.195535 Test Accuracy: 0.942093\n",
      "Epoch: 6/30..  Train Loss: 0.226233..  Test Loss: 0.174413 Test Accuracy: 0.947484\n",
      "Epoch: 7/30..  Train Loss: 0.204319..  Test Loss: 0.157725 Test Accuracy: 0.953175\n",
      "Epoch: 8/30..  Train Loss: 0.183994..  Test Loss: 0.144393 Test Accuracy: 0.956270\n",
      "Epoch: 9/30..  Train Loss: 0.168319..  Test Loss: 0.132801 Test Accuracy: 0.959964\n",
      "Epoch: 10/30..  Train Loss: 0.157309..  Test Loss: 0.123543 Test Accuracy: 0.962260\n",
      "Epoch: 11/30..  Train Loss: 0.146406..  Test Loss: 0.116568 Test Accuracy: 0.963958\n",
      "Epoch: 12/30..  Train Loss: 0.136029..  Test Loss: 0.111582 Test Accuracy: 0.965755\n",
      "Epoch: 13/30..  Train Loss: 0.128014..  Test Loss: 0.106823 Test Accuracy: 0.966853\n",
      "Epoch: 14/30..  Train Loss: 0.121501..  Test Loss: 0.102386 Test Accuracy: 0.966953\n",
      "Epoch: 15/30..  Train Loss: 0.116282..  Test Loss: 0.096266 Test Accuracy: 0.970048\n",
      "Epoch: 16/30..  Train Loss: 0.110656..  Test Loss: 0.094095 Test Accuracy: 0.970347\n",
      "Epoch: 17/30..  Train Loss: 0.104292..  Test Loss: 0.090480 Test Accuracy: 0.972145\n",
      "Epoch: 18/30..  Train Loss: 0.099863..  Test Loss: 0.087645 Test Accuracy: 0.972744\n",
      "Epoch: 19/30..  Train Loss: 0.093878..  Test Loss: 0.084203 Test Accuracy: 0.972843\n",
      "Epoch: 20/30..  Train Loss: 0.089932..  Test Loss: 0.081168 Test Accuracy: 0.975140\n",
      "Epoch: 21/30..  Train Loss: 0.088006..  Test Loss: 0.079451 Test Accuracy: 0.974940\n",
      "Epoch: 22/30..  Train Loss: 0.084077..  Test Loss: 0.077790 Test Accuracy: 0.976837\n",
      "Epoch: 23/30..  Train Loss: 0.079938..  Test Loss: 0.075748 Test Accuracy: 0.977236\n",
      "Epoch: 24/30..  Train Loss: 0.076937..  Test Loss: 0.073110 Test Accuracy: 0.977935\n",
      "Epoch: 25/30..  Train Loss: 0.074544..  Test Loss: 0.072399 Test Accuracy: 0.977137\n",
      "Epoch: 26/30..  Train Loss: 0.071230..  Test Loss: 0.070053 Test Accuracy: 0.977935\n",
      "Epoch: 27/30..  Train Loss: 0.069744..  Test Loss: 0.068986 Test Accuracy: 0.978135\n",
      "Epoch: 28/30..  Train Loss: 0.066959..  Test Loss: 0.069818 Test Accuracy: 0.978135\n",
      "Epoch: 29/30..  Train Loss: 0.064607..  Test Loss: 0.067223 Test Accuracy: 0.979034\n",
      "Epoch: 30/30..  Train Loss: 0.061441..  Test Loss: 0.067286 Test Accuracy: 0.979034\n"
     ]
    }
   ],
   "source": [
    "criterion = nn.CrossEntropyLoss()\n",
    "optimizer = optim.SGD(model.parameters(), lr=0.01) \n",
    "num_epochs = 25 \n",
    "\n",
    "training_losses = []\n",
    "testing_losses = []\n",
    "\n",
    "# training loop for each epoch\n",
    "for epoch in range(1, num_epochs + 1):\n",
    "    total_training_loss = 0\n",
    "    n_correct = 0  \n",
    "    n_samples = 0  \n",
    "\n",
    "    for i, (images, labels) in enumerate(train_loader):\n",
    "        images = images.view(images.shape[0], -1).reshape(-1, 28 * 28).to(device)\n",
    "        labels = labels.to(device)\n",
    "\n",
    "        # forward pass\n",
    "        outputs = model(images)\n",
    "        loss = criterion(outputs, labels)\n",
    "\n",
    "        # backward pass + optimization\n",
    "        optimizer.zero_grad() # zero the gradient buffers\n",
    "        loss.backward()\n",
    "        optimizer.step()\n",
    "\n",
    "        total_training_loss += loss.item()\n",
    "\n",
    "    # test\n",
    "    total_testing_loss = 0\n",
    "    test_correct = 0\n",
    "    with torch.no_grad(): # gradient disabled\n",
    "        model.eval()\n",
    "        for images, labels in test_loader:\n",
    "            images = images.view(images.shape[0], -1).to(device) \n",
    "            logps = model(images)\n",
    "            loss = criterion(logps, labels) # compares model's predictions to group truth labels\n",
    "            total_testing_loss += loss.item()\n",
    "\n",
    "            ps = torch.exp(model(images)) # calculate class probabilities \n",
    "                \n",
    "            top_p, top_class = ps.topk(1, dim=1) # identifies top predicted class for each image\n",
    "                \n",
    "            equals = top_class == labels.view(*top_class.shape) # check if predicted class matches actual labels\n",
    "                \n",
    "            test_correct += torch.mean(equals.type(torch.FloatTensor)) # update accuracy based on correct predictions\n",
    "\n",
    "        model.train() # dropout back on\n",
    "\n",
    "    # calculate mean training and testing losses for this epoch\n",
    "    training_losses.append(total_training_loss / len(train_loader))\n",
    "    testing_losses.append(total_testing_loss / len(test_loader))\n",
    "\n",
    "    # print the progress for the current epoch\n",
    "    print(f\"Epoch: {epoch}/{num_epochs}.. \",\n",
    "          \"Train Loss: {:3f}.. \".format(training_losses[-1]), \n",
    "          \"Test Loss: {:3f}\".format(testing_losses[-1]),\n",
    "          \"Test Accuracy: {:3f}\".format(test_correct / len(test_loader)))"
   ]
  },
  {
   "cell_type": "code",
   "execution_count": 7,
   "id": "118c5508",
   "metadata": {},
   "outputs": [
    {
     "data": {
      "image/png": "[encoded data removed]",
      "text/plain": [
       "<Figure size 640x480 with 1 Axes>"
      ]
     },
     "metadata": {},
     "output_type": "display_data"
    }
   ],
   "source": [
    "check = 7\n",
    "with torch.no_grad():\n",
    "    model.eval()\n",
    "    image, actual_label = test_dataset[check]\n",
    "    predicted_label = model(image.view(1, -1).to(device)).argmax().item()\n",
    "\n",
    "# display the actual image, label\n",
    "plt.imshow(image.squeeze().cpu(), cmap='gray')\n",
    "plt.title(f\"Actual: {actual_label}, Predicted: {predicted_label}\")\n",
    "plt.show()"
   ]
  }
 ],
 "metadata": {
  "kernelspec": {
   "display_name": "Python 3 (ipykernel)",
   "language": "python",
   "name": "python3"
  },
  "language_info": {
   "codemirror_mode": {
    "name": "ipython",
    "version": 3
   },
   "file_extension": ".py",
   "mimetype": "text/x-python",
   "name": "python",
   "nbconvert_exporter": "python",
   "pygments_lexer": "ipython3",
   "version": "3.11.3"
  }
 },
 "nbformat": 4,
 "nbformat_minor": 5
}
